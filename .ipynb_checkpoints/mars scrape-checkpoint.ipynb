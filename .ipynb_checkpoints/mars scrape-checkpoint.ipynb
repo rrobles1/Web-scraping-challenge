{
 "cells": [
  {
   "cell_type": "code",
   "execution_count": 1,
   "metadata": {},
   "outputs": [],
   "source": [
    "from splinter import Browser\n",
    "from bs4 import BeautifulSoup as bs\n",
    "import time\n",
    "import pandas as pd"
   ]
  },
  {
   "cell_type": "code",
   "execution_count": 2,
   "metadata": {},
   "outputs": [],
   "source": [
    "def init_browser():\n",
    "    # @NOTE: Replace the path with your actual path to the chromedriver\n",
    "    executable_path = {\"executable_path\": \"/usr/local/bin/chromedriver\"}\n",
    "    return Browser(\"chrome\", **executable_path, headless=False)"
   ]
  },
  {
   "cell_type": "code",
   "execution_count": 3,
   "metadata": {},
   "outputs": [],
   "source": [
    "browser = init_browser()\n",
    "def mars_news():\n",
    "    news_url = \"https://mars.nasa.gov/news/\"\n",
    "    browser.visit(news_url)\n",
    "    html = browser.html\n",
    "    soup = bs(html, \"html.parser\")\n",
    "    latest_news = soup.find(\"div\", class_='list_text')\n",
    "    news_title = latest_news.find(\"div\", class_=\"content_title\").text\n",
    "    news_p = latest_news.find(\"div\", class_=\"article_teaser_body\").text\n",
    "    output = [news_title, news_p]\n",
    "    return output"
   ]
  },
  {
   "cell_type": "code",
   "execution_count": 4,
   "metadata": {},
   "outputs": [],
   "source": [
    "def mars_img():\n",
    "    img_url = \"https://www.jpl.nasa.gov/spaceimages/?search=&category=Mars\"\n",
    "    browser.visit(img_url)\n",
    "    html = browser.html\n",
    "    soup = bs(html, \"html.parser\")\n",
    "    image = soup.find(\"img\", class_=\"thumb\")[\"src\"]\n",
    "    featured_img_url = \"https://www.jpl.nasa.gov\" + image\n",
    "    return featured_img_url"
   ]
  },
  {
   "cell_type": "code",
   "execution_count": 5,
   "metadata": {},
   "outputs": [],
   "source": [
    "def Mars_Weather():\n",
    "    twitter_page_url = \"https://twitter.com/marswxreport?lang=en\"\n",
    "    browser.visit(twitter_page_url)\n",
    "    html = browser.html\n",
    "    soup = bs(html, \"html.parser\")\n",
    "    header = soup.find(\"div\", class_=\"stream-item-header\")\n",
    "    tweet = soup.find(\"div\", class_=\"js-tweet-text-container\").text\n",
    "    mars_weather = [header, tweet]\n",
    "    return mars_weather"
   ]
  },
  {
   "cell_type": "code",
   "execution_count": 6,
   "metadata": {},
   "outputs": [],
   "source": [
    "def mars_facts():\n",
    "    facts_url = \"https://space-facts.com/mars/\"\n",
    "    browser.visit(facts_url)\n",
    "    mars_data = pd.read_html(facts_url)\n",
    "    mars_data = pd.DataFrame(mars_data[1])\n",
    "    mars_data.columns = [\"Measurement_Label\", \"Value\"]\n",
    "    mars_data = mars_data.set_index(\"Measurement_Label\")\n",
    "    mars_facts = mars_data.to_html(index = True, header =True)\n",
    "    return mars_facts\n"
   ]
  },
  {
   "cell_type": "code",
   "execution_count": 7,
   "metadata": {},
   "outputs": [],
   "source": [
    "def mars_hemispheres():\n",
    "    hemispheres_url = \"https://astrogeology.usgs.gov/search/results?q=hemisphere+enhanced&k1=target&v1=Mars\"\n",
    "    browser.visit(hemispheres_url)\n",
    "    html = browser.html\n",
    "    soup = bs(html, \"html.parser\")\n",
    "    mars_hemisphere = []\n",
    "    products = soup.find(\"div\", class_=\"result-list\")\n",
    "    hemispheres = products.find_all(\"div\", class_=\"item\")\n",
    "    \n",
    "    for hemisphere in hemispheres:\n",
    "        title = hemisphere.find(\"h3\").text\n",
    "        title = title.replace(\"Enhanced\", \"\")\n",
    "        end_lnk = hemisphere.find(\"a\")[\"href\"]\n",
    "        img_link = \"https://astrogeology.usgs.gov\" + end_lnk\n",
    "        browser.visit(img_link)\n",
    "        html = browser.html\n",
    "        soup = bs(html, \"html.parser\")\n",
    "        downloads = soup.find(\"div\", class_=\"downloads\")\n",
    "        img_url = downloads.find(\"a\")[\"href\"]\n",
    "        dictionary = {\"title\": title, \"img_url\": img_url}\n",
    "        mars_hemisphere.append(dictionary)\n",
    "    return mars_hemisphere"
   ]
  },
  {
   "cell_type": "code",
   "execution_count": 8,
   "metadata": {},
   "outputs": [],
   "source": [
    "def mars_scrape():\n",
    "    final_product = {}\n",
    "    output = mars_news()\n",
    "    final_product[\"mars_news\"] = output[0]\n",
    "    final_product[\"paragraph_text\"] = output[1]\n",
    "    final_product[\"mars_img\"] = mars_img()\n",
    "    final_product[\"Mars_Weather\"] = Mars_Weather()\n",
    "    final_product[\"mars_facts\"] = mars_facts()\n",
    "    final_product[\"mars_hemispheres\"] = mars_hemispheres()\n",
    "    return final_product"
   ]
  },
  {
   "cell_type": "code",
   "execution_count": null,
   "metadata": {},
   "outputs": [],
   "source": []
  },
  {
   "cell_type": "code",
   "execution_count": null,
   "metadata": {},
   "outputs": [],
   "source": []
  }
 ],
 "metadata": {
  "kernelspec": {
   "display_name": "Python 3",
   "language": "python",
   "name": "python3"
  },
  "language_info": {
   "codemirror_mode": {
    "name": "ipython",
    "version": 3
   },
   "file_extension": ".py",
   "mimetype": "text/x-python",
   "name": "python",
   "nbconvert_exporter": "python",
   "pygments_lexer": "ipython3",
   "version": "3.6.9"
  }
 },
 "nbformat": 4,
 "nbformat_minor": 2
}
